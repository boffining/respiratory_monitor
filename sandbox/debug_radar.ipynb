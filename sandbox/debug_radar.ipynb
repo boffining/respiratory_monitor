{
 "cells": [
  {
   "cell_type": "markdown",
   "id": "40e59634-5eac-4ac7-af83-394be4f68a12",
   "metadata": {},
   "source": [
    "## Debugging the radar scripts line by line"
   ]
  },
  {
   "cell_type": "code",
   "execution_count": 1,
   "id": "5bce5c19-5be9-4aa1-a5c1-456d49f77e4f",
   "metadata": {},
   "outputs": [],
   "source": [
    "import acconeer.exptool.a121 as a121"
   ]
  },
  {
   "cell_type": "code",
   "execution_count": 2,
   "id": "24014e2a",
   "metadata": {},
   "outputs": [
    {
     "name": "stdout",
     "output_type": "stream",
     "text": [
      "['Client', 'ClientError', 'ClientInfo', 'Criticality', 'ExampleArgumentParser', 'H5Record', 'H5Recorder', 'IdleState', 'InMemoryRecord', 'Metadata', 'MockInfo', 'PRF', 'PersistentRecord', 'Profile', 'Record', 'RecordError', 'Recorder', 'Result', 'SDK_VERSION', 'SensorCalibration', 'SensorConfig', 'SensorInfo', 'SerialInfo', 'ServerError', 'ServerInfo', 'SessionConfig', 'SocketInfo', 'StackedResults', 'SubsweepConfig', 'USBInfo', 'ValidationError', 'ValidationResult', 'ValidationWarning', '_H5PY_STR_DTYPE', '_ReplayingClient', '_SensorPerformanceCalc', '_SessionPerformanceCalc', '_StopReplay', '__builtins__', '__cached__', '__doc__', '__file__', '__loader__', '__name__', '__package__', '__path__', '__spec__', '_core', '_core_ext', '_h5_utils', '_perf_calc', 'complex_array_to_int16_complex', 'get_client_args', 'get_point_overhead_duration', 'get_sample_duration', 'int16_complex_array_to_complex', 'iterate_extended_structure', 'iterate_extended_structure_values', 'load_record', 'open_record', 'save_record', 'save_record_to_h5', 'zip3_extended_structures', 'zip_extended_structures']\n"
     ]
    }
   ],
   "source": [
    "print(dir(a121))"
   ]
  },
  {
   "cell_type": "code",
   "execution_count": 2,
   "id": "113c2998-7d7f-4d33-ba79-3889b186b3c9",
   "metadata": {},
   "outputs": [
    {
     "name": "stdout",
     "output_type": "stream",
     "text": [
      "['Client', 'ClientError', 'ClientInfo', 'Criticality', 'ExampleArgumentParser', 'H5Record', 'H5Recorder', 'IdleState', 'InMemoryRecord', 'Metadata', 'MockInfo', 'PRF', 'PersistentRecord', 'Profile', 'Record', 'RecordError', 'Recorder', 'Result', 'SDK_VERSION', 'SensorCalibration', 'SensorConfig', 'SensorInfo', 'SerialInfo', 'ServerError', 'ServerInfo', 'SessionConfig', 'SocketInfo', 'StackedResults', 'SubsweepConfig', 'USBInfo', 'ValidationError', 'ValidationResult', 'ValidationWarning', '_H5PY_STR_DTYPE', '_ReplayingClient', '_SensorPerformanceCalc', '_SessionPerformanceCalc', '_StopReplay', '__builtins__', '__cached__', '__doc__', '__file__', '__loader__', '__name__', '__package__', '__path__', '__spec__', '_cli', '_core', '_core_ext', '_h5_utils', '_perf_calc', 'complex_array_to_int16_complex', 'get_client_args', 'get_point_overhead_duration', 'get_sample_duration', 'int16_complex_array_to_complex', 'iterate_extended_structure', 'iterate_extended_structure_values', 'load_record', 'open_record', 'save_record', 'save_record_to_h5', 'zip3_extended_structures', 'zip_extended_structures']\n"
     ]
    }
   ],
   "source": [
    "print(dir(a121))"
   ]
  },
  {
   "cell_type": "code",
   "execution_count": 5,
   "id": "6c4965ff-741b-4680-b7a4-961dc0e3ddef",
   "metadata": {},
   "outputs": [],
   "source": [
    "from acconeer.exptool.a121 import Client\n",
    "from acconeer.exptool.a121.algo.breathing import RefApp\n",
    "from acconeer.exptool.a121.algo.breathing._ref_app import (BreathingProcessorConfig, RefAppConfig, get_sensor_config)\n",
    "from acconeer.exptool.a121.algo.presence import ProcessorConfig as PresenceProcessorConfig"
   ]
  },
  {
   "cell_type": "code",
   "execution_count": 8,
   "id": "ee039f4c-3af9-41cd-a295-8e932d4fa4ab",
   "metadata": {},
   "outputs": [
    {
     "ename": "LinkError",
     "evalue": "Cannot auto detect:\nUSB: No USB devices detected. Cannot auto detect.\nSerial: No serial devices detected. Cannot auto detect.",
     "output_type": "error",
     "traceback": [
      "\u001b[0;31m---------------------------------------------------------------------------\u001b[0m",
      "\u001b[0;31mNullLinkError\u001b[0m                             Traceback (most recent call last)",
      "File \u001b[0;32m~/acconeer/lib/python3.11/site-packages/acconeer/exptool/_core/communication/links/helpers.py:103\u001b[0m, in \u001b[0;36mensure_connected_link\u001b[0;34m(client_info)\u001b[0m\n\u001b[1;32m    102\u001b[0m \u001b[38;5;28;01mtry\u001b[39;00m:\n\u001b[0;32m--> 103\u001b[0m     \u001b[43mlink\u001b[49m\u001b[38;5;241;43m.\u001b[39;49m\u001b[43mconnect\u001b[49m\u001b[43m(\u001b[49m\u001b[43m)\u001b[49m\n\u001b[1;32m    104\u001b[0m     \u001b[38;5;28;01mreturn\u001b[39;00m link, client_info\n",
      "File \u001b[0;32m~/acconeer/lib/python3.11/site-packages/acconeer/exptool/_core/communication/links/null_link.py:19\u001b[0m, in \u001b[0;36mNullLink.connect\u001b[0;34m(self)\u001b[0m\n\u001b[1;32m     18\u001b[0m \u001b[38;5;28;01mdef\u001b[39;00m \u001b[38;5;21mconnect\u001b[39m(\u001b[38;5;28mself\u001b[39m) \u001b[38;5;241m-\u001b[39m\u001b[38;5;241m>\u001b[39m \u001b[38;5;28;01mNone\u001b[39;00m:\n\u001b[0;32m---> 19\u001b[0m     \u001b[38;5;28;01mraise\u001b[39;00m \u001b[38;5;28mself\u001b[39m\u001b[38;5;241m.\u001b[39mERROR\n",
      "\u001b[0;31mNullLinkError\u001b[0m: Link is undetermined.",
      "\nDuring handling of the above exception, another exception occurred:\n",
      "\u001b[0;31mLinkError\u001b[0m                                 Traceback (most recent call last)",
      "Cell \u001b[0;32mIn[8], line 1\u001b[0m\n\u001b[0;32m----> 1\u001b[0m client \u001b[38;5;241m=\u001b[39m \u001b[43mClient\u001b[49m\u001b[38;5;241;43m.\u001b[39;49m\u001b[43mopen\u001b[49m\u001b[43m(\u001b[49m\u001b[43m)\u001b[49m\u001b[38;5;66;03m#serial_port=\"/dev/spidev0.1\")\u001b[39;00m\n",
      "File \u001b[0;32m~/acconeer/lib/python3.11/site-packages/acconeer/exptool/a121/_core/communication/client.py:51\u001b[0m, in \u001b[0;36mClient.open\u001b[0;34m(cls, ip_address, tcp_port, serial_port, usb_device, mock, override_baudrate, flow_control, generation)\u001b[0m\n\u001b[1;32m     48\u001b[0m \u001b[38;5;28;01mif\u001b[39;00m generation \u001b[38;5;241m!=\u001b[39m \u001b[38;5;124m\"\u001b[39m\u001b[38;5;124ma121\u001b[39m\u001b[38;5;124m\"\u001b[39m:\n\u001b[1;32m     49\u001b[0m     \u001b[38;5;28;01mraise\u001b[39;00m ClientCreationError\n\u001b[0;32m---> 51\u001b[0m \u001b[38;5;28;01mreturn\u001b[39;00m \u001b[38;5;28;43msuper\u001b[39;49m\u001b[43m(\u001b[49m\u001b[43m)\u001b[49m\u001b[38;5;241;43m.\u001b[39;49m\u001b[43mopen\u001b[49m\u001b[43m(\u001b[49m\n\u001b[1;32m     52\u001b[0m \u001b[43m    \u001b[49m\u001b[43mip_address\u001b[49m\u001b[43m,\u001b[49m\n\u001b[1;32m     53\u001b[0m \u001b[43m    \u001b[49m\u001b[43mtcp_port\u001b[49m\u001b[43m,\u001b[49m\n\u001b[1;32m     54\u001b[0m \u001b[43m    \u001b[49m\u001b[43mserial_port\u001b[49m\u001b[43m,\u001b[49m\n\u001b[1;32m     55\u001b[0m \u001b[43m    \u001b[49m\u001b[43musb_device\u001b[49m\u001b[43m,\u001b[49m\n\u001b[1;32m     56\u001b[0m \u001b[43m    \u001b[49m\u001b[43mmock\u001b[49m\u001b[43m,\u001b[49m\n\u001b[1;32m     57\u001b[0m \u001b[43m    \u001b[49m\u001b[43moverride_baudrate\u001b[49m\u001b[43m,\u001b[49m\n\u001b[1;32m     58\u001b[0m \u001b[43m    \u001b[49m\u001b[43mflow_control\u001b[49m\u001b[43m,\u001b[49m\n\u001b[1;32m     59\u001b[0m \u001b[43m    \u001b[49m\u001b[43mgeneration\u001b[49m\u001b[38;5;241;43m=\u001b[39;49m\u001b[38;5;124;43m\"\u001b[39;49m\u001b[38;5;124;43ma121\u001b[39;49m\u001b[38;5;124;43m\"\u001b[39;49m\u001b[43m,\u001b[49m\n\u001b[1;32m     60\u001b[0m \u001b[43m\u001b[49m\u001b[43m)\u001b[49m\n",
      "File \u001b[0;32m~/acconeer/lib/python3.11/site-packages/acconeer/exptool/_core/communication/client.py:88\u001b[0m, in \u001b[0;36mClient.open\u001b[0;34m(cls, ip_address, tcp_port, serial_port, usb_device, mock, override_baudrate, flow_control, generation)\u001b[0m\n\u001b[1;32m     80\u001b[0m \u001b[38;5;28;01mfor\u001b[39;00m subclass \u001b[38;5;129;01min\u001b[39;00m \u001b[38;5;28mcls\u001b[39m\u001b[38;5;241m.\u001b[39m__registry:\n\u001b[1;32m     81\u001b[0m     \u001b[38;5;28;01mtry\u001b[39;00m:\n\u001b[1;32m     82\u001b[0m         \u001b[38;5;66;03m# For a class to be in the \"__registry\"-list it needs to be a subclass,\u001b[39;00m\n\u001b[1;32m     83\u001b[0m         \u001b[38;5;66;03m# which it is since it's added in \"__init_subclass__\".\u001b[39;00m\n\u001b[0;32m   (...)\u001b[0m\n\u001b[1;32m     86\u001b[0m         \u001b[38;5;66;03m#\u001b[39;00m\n\u001b[1;32m     87\u001b[0m         \u001b[38;5;66;03m# That is why these errors are ignored instead of handled.\u001b[39;00m\n\u001b[0;32m---> 88\u001b[0m         \u001b[38;5;28;01mreturn\u001b[39;00m \u001b[43msubclass\u001b[49m\u001b[38;5;241;43m.\u001b[39;49m\u001b[43mopen\u001b[49m\u001b[43m(\u001b[49m\u001b[43m  \u001b[49m\u001b[38;5;66;43;03m# type: ignore[no-any-return, attr-defined]\u001b[39;49;00m\n\u001b[1;32m     89\u001b[0m \u001b[43m            \u001b[49m\u001b[43mip_address\u001b[49m\u001b[43m,\u001b[49m\n\u001b[1;32m     90\u001b[0m \u001b[43m            \u001b[49m\u001b[43mtcp_port\u001b[49m\u001b[43m,\u001b[49m\n\u001b[1;32m     91\u001b[0m \u001b[43m            \u001b[49m\u001b[43mserial_port\u001b[49m\u001b[43m,\u001b[49m\n\u001b[1;32m     92\u001b[0m \u001b[43m            \u001b[49m\u001b[43musb_device\u001b[49m\u001b[43m,\u001b[49m\n\u001b[1;32m     93\u001b[0m \u001b[43m            \u001b[49m\u001b[43mmock\u001b[49m\u001b[43m,\u001b[49m\n\u001b[1;32m     94\u001b[0m \u001b[43m            \u001b[49m\u001b[43moverride_baudrate\u001b[49m\u001b[43m,\u001b[49m\n\u001b[1;32m     95\u001b[0m \u001b[43m            \u001b[49m\u001b[43mflow_control\u001b[49m\u001b[43m,\u001b[49m\n\u001b[1;32m     96\u001b[0m \u001b[43m            \u001b[49m\u001b[43mgeneration\u001b[49m\u001b[43m,\u001b[49m\n\u001b[1;32m     97\u001b[0m \u001b[43m        \u001b[49m\u001b[43m)\u001b[49m\n\u001b[1;32m     98\u001b[0m     \u001b[38;5;28;01mexcept\u001b[39;00m ClientCreationError:\n\u001b[1;32m     99\u001b[0m         \u001b[38;5;28;01mcontinue\u001b[39;00m\n",
      "File \u001b[0;32m~/acconeer/lib/python3.11/site-packages/acconeer/exptool/a121/_core/communication/exploration_client.py:93\u001b[0m, in \u001b[0;36mExplorationClient.open\u001b[0;34m(cls, ip_address, tcp_port, serial_port, usb_device, mock, override_baudrate, flow_control, generation)\u001b[0m\n\u001b[1;32m     82\u001b[0m     \u001b[38;5;28;01mraise\u001b[39;00m ClientCreationError\n\u001b[1;32m     84\u001b[0m client_info \u001b[38;5;241m=\u001b[39m ClientInfo\u001b[38;5;241m.\u001b[39m_from_open(\n\u001b[1;32m     85\u001b[0m     ip_address\u001b[38;5;241m=\u001b[39mip_address,\n\u001b[1;32m     86\u001b[0m     tcp_port\u001b[38;5;241m=\u001b[39mtcp_port,\n\u001b[0;32m   (...)\u001b[0m\n\u001b[1;32m     90\u001b[0m     flow_control\u001b[38;5;241m=\u001b[39mflow_control,\n\u001b[1;32m     91\u001b[0m )\n\u001b[0;32m---> 93\u001b[0m \u001b[38;5;28;01mreturn\u001b[39;00m \u001b[38;5;28;43mcls\u001b[39;49m\u001b[43m(\u001b[49m\u001b[43mclient_info\u001b[49m\u001b[38;5;241;43m=\u001b[39;49m\u001b[43mclient_info\u001b[49m\u001b[43m)\u001b[49m\n",
      "File \u001b[0;32m~/acconeer/lib/python3.11/site-packages/acconeer/exptool/a121/_core/communication/exploration_client.py:109\u001b[0m, in \u001b[0;36mExplorationClient.__init__\u001b[0;34m(self, client_info, _override_protocol)\u001b[0m\n\u001b[1;32m    105\u001b[0m \u001b[38;5;28mself\u001b[39m\u001b[38;5;241m.\u001b[39m_crashing \u001b[38;5;241m=\u001b[39m \u001b[38;5;28;01mFalse\u001b[39;00m\n\u001b[1;32m    107\u001b[0m \u001b[38;5;28mself\u001b[39m\u001b[38;5;241m.\u001b[39m_protocol \u001b[38;5;241m=\u001b[39m ExplorationProtocol\n\u001b[0;32m--> 109\u001b[0m (\u001b[38;5;28mself\u001b[39m\u001b[38;5;241m.\u001b[39m_link, \u001b[38;5;28mself\u001b[39m\u001b[38;5;241m.\u001b[39m_client_info) \u001b[38;5;241m=\u001b[39m \u001b[43mensure_connected_link\u001b[49m\u001b[43m(\u001b[49m\u001b[38;5;28;43mself\u001b[39;49m\u001b[38;5;241;43m.\u001b[39;49m\u001b[43mclient_info\u001b[49m\u001b[43m)\u001b[49m\n\u001b[1;32m    110\u001b[0m \u001b[38;5;28mself\u001b[39m\u001b[38;5;241m.\u001b[39m_server_stream \u001b[38;5;241m=\u001b[39m MessageStream(\n\u001b[1;32m    111\u001b[0m     \u001b[38;5;28mself\u001b[39m\u001b[38;5;241m.\u001b[39m_link,\n\u001b[1;32m    112\u001b[0m     \u001b[38;5;28mself\u001b[39m\u001b[38;5;241m.\u001b[39m_protocol,\n\u001b[1;32m    113\u001b[0m     message_handler\u001b[38;5;241m=\u001b[39m\u001b[38;5;28mself\u001b[39m\u001b[38;5;241m.\u001b[39m_handle_messages,\n\u001b[1;32m    114\u001b[0m     link_error_callback\u001b[38;5;241m=\u001b[39m\u001b[38;5;28mself\u001b[39m\u001b[38;5;241m.\u001b[39m_close_before_reraise,\n\u001b[1;32m    115\u001b[0m )\n\u001b[1;32m    117\u001b[0m \u001b[38;5;28mself\u001b[39m\u001b[38;5;241m.\u001b[39m_server_info \u001b[38;5;241m=\u001b[39m \u001b[38;5;28mself\u001b[39m\u001b[38;5;241m.\u001b[39m_retrieve_server_info()\n",
      "File \u001b[0;32m~/acconeer/lib/python3.11/site-packages/acconeer/exptool/_core/communication/links/helpers.py:106\u001b[0m, in \u001b[0;36mensure_connected_link\u001b[0;34m(client_info)\u001b[0m\n\u001b[1;32m    104\u001b[0m     \u001b[38;5;28;01mreturn\u001b[39;00m link, client_info\n\u001b[1;32m    105\u001b[0m \u001b[38;5;28;01mexcept\u001b[39;00m NullLinkError:\n\u001b[0;32m--> 106\u001b[0m     new_client_info \u001b[38;5;241m=\u001b[39m \u001b[43mautodetermine_client_info\u001b[49m\u001b[43m(\u001b[49m\u001b[43mclient_info\u001b[49m\u001b[43m)\u001b[49m\n\u001b[1;32m    107\u001b[0m     \u001b[38;5;28;01mreturn\u001b[39;00m ensure_connected_link(new_client_info)\n\u001b[1;32m    108\u001b[0m \u001b[38;5;28;01mexcept\u001b[39;00m SerialException \u001b[38;5;28;01mas\u001b[39;00m exc:\n",
      "File \u001b[0;32m~/acconeer/lib/python3.11/site-packages/acconeer/exptool/_core/communication/links/helpers.py:90\u001b[0m, in \u001b[0;36mautodetermine_client_info\u001b[0;34m(client_info)\u001b[0m\n\u001b[1;32m     87\u001b[0m     error_message \u001b[38;5;241m+\u001b[39m\u001b[38;5;241m=\u001b[39m \u001b[38;5;124mf\u001b[39m\u001b[38;5;124m\"\u001b[39m\u001b[38;5;130;01m\\n\u001b[39;00m\u001b[38;5;124mSerial: \u001b[39m\u001b[38;5;132;01m{\u001b[39;00m\u001b[38;5;28mstr\u001b[39m(exc)\u001b[38;5;132;01m}\u001b[39;00m\u001b[38;5;124m\"\u001b[39m\n\u001b[1;32m     89\u001b[0m msg \u001b[38;5;241m=\u001b[39m \u001b[38;5;124mf\u001b[39m\u001b[38;5;124m\"\u001b[39m\u001b[38;5;124mCannot auto detect:\u001b[39m\u001b[38;5;132;01m{\u001b[39;00merror_message\u001b[38;5;132;01m}\u001b[39;00m\u001b[38;5;124m\"\u001b[39m\n\u001b[0;32m---> 90\u001b[0m \u001b[38;5;28;01mraise\u001b[39;00m LinkError(msg)\n",
      "\u001b[0;31mLinkError\u001b[0m: Cannot auto detect:\nUSB: No USB devices detected. Cannot auto detect.\nSerial: No serial devices detected. Cannot auto detect."
     ]
    }
   ],
   "source": [
    "client = Client.open()#serial_port=\"/dev/spidev0.1\")"
   ]
  },
  {
   "cell_type": "code",
   "execution_count": null,
   "id": "06822658-5dea-4d9e-9582-409cd4c7a942",
   "metadata": {},
   "outputs": [],
   "source": [
    "from acconeer.exptool.a121.algo.breathing"
   ]
  },
  {
   "cell_type": "code",
   "execution_count": null,
   "id": "43118897-b270-4471-af4f-08d4d19386f1",
   "metadata": {},
   "outputs": [],
   "source": []
  },
  {
   "cell_type": "code",
   "execution_count": 1,
   "id": "33d08504-89af-49c6-8f2d-402ac815eb5f",
   "metadata": {},
   "outputs": [],
   "source": [
    "from __future__ import annotations\n",
    "\n",
    "import acconeer.exptool as et\n",
    "from acconeer.exptool import a121\n",
    "from acconeer.exptool.a121.algo.breathing import RefApp\n",
    "from acconeer.exptool.a121.algo.breathing._ref_app import (\n",
    "    BreathingProcessorConfig,\n",
    "    RefAppConfig,\n",
    "    get_sensor_config,\n",
    ")\n",
    "from acconeer.exptool.a121.algo.presence import ProcessorConfig as PresenceProcessorConfig\n"
   ]
  },
  {
   "cell_type": "code",
   "execution_count": 2,
   "id": "f890787f-44bf-4ebf-9749-2e176485ab54",
   "metadata": {},
   "outputs": [],
   "source": [
    "#args = a121.ExampleArgumentParser().parse_args()\n",
    "#et.utils.config_logging(args)\n",
    "\n",
    "# Setup the configurations\n",
    "# Detailed at https://docs.acconeer.com/en/latest/exploration_tool/algo/a121/ref_apps/breathing.html\n",
    "\n",
    "# Sensor selections\n",
    "sensor = 1\n",
    "\n",
    "# Ref App Configurations\n",
    "breathing_processor_config = BreathingProcessorConfig(\n",
    "    lowest_breathing_rate=6,\n",
    "    highest_breathing_rate=60,\n",
    "    time_series_length_s=20,\n",
    ")\n",
    "\n",
    "# Presence Configurations\n",
    "presence_config = PresenceProcessorConfig(\n",
    "    intra_detection_threshold=4,\n",
    "    intra_frame_time_const=0.15,\n",
    "    inter_frame_fast_cutoff=20,\n",
    "    inter_frame_slow_cutoff=0.2,\n",
    "    inter_frame_deviation_time_const=0.5,\n",
    ")\n",
    "\n",
    "# Breathing Configurations\n",
    "ref_app_config = RefAppConfig(\n",
    "    use_presence_processor=True,\n",
    "    num_distances_to_analyze=3,\n",
    "    hwaas=64,\n",
    "    distance_determination_duration=5,\n",
    "    breathing_config=breathing_processor_config,\n",
    "    presence_config=presence_config,\n",
    ")"
   ]
  },
  {
   "cell_type": "code",
   "execution_count": 3,
   "id": "0d93adde-dda1-44f5-914c-21c9fcdf7951",
   "metadata": {},
   "outputs": [
    {
     "data": {
      "text/plain": [
       "SensorConfig(subsweeps=[SubsweepConfig(start_point=119, num_points=21, step_length=24, profile=<Profile.PROFILE_3: 3>, hwaas=64, receiver_gain=16, enable_tx=True, enable_loopback=False, phase_enhancement=False, _prf=<PRF.PRF_15_6_MHz: (15600000, 5.1, 9.6)>)], sweeps_per_frame=16, sweep_rate=None, frame_rate=20.0, continuous_sweep_mode=False, double_buffering=False, inter_frame_idle_state=IdleState.DEEP_SLEEP, inter_sweep_idle_state=IdleState.READY)"
      ]
     },
     "execution_count": 3,
     "metadata": {},
     "output_type": "execute_result"
    }
   ],
   "source": [
    "# Preparation for client\n",
    "sensor_config = get_sensor_config(ref_app_config=ref_app_config)\n",
    "sensor_config"
   ]
  },
  {
   "cell_type": "code",
   "execution_count": 4,
   "id": "6965a02d-d1bb-485a-b130-e327a3dc34f0",
   "metadata": {},
   "outputs": [
    {
     "name": "stdout",
     "output_type": "stream",
     "text": [
      "ServerInfo:\n",
      "  rss_version ............ a121-v1.5.0\n",
      "  sensor_count ........... 5\n",
      "  ticks_per_second ....... 1000000\n",
      "  hardware_name .......... linux\n",
      "  max_baudrate ........... None\n",
      "  sensor_infos:\n",
      "    SensorInfo @ slot 1:\n",
      "      connected .............. True\n",
      "      serial ................. None\n",
      "    SensorInfo @ slot 2:\n",
      "      connected .............. False\n",
      "      serial ................. None\n",
      "    SensorInfo @ slot 3:\n",
      "      connected .............. False\n",
      "      serial ................. None\n",
      "    SensorInfo @ slot 4:\n",
      "      connected .............. False\n",
      "      serial ................. None\n",
      "    SensorInfo @ slot 5:\n",
      "      connected .............. False\n",
      "      serial ................. None\n"
     ]
    }
   ],
   "source": [
    "client = a121.Client.open(ip_address=\"192.168.50.175\")\n",
    "print(client.server_info)"
   ]
  },
  {
   "cell_type": "code",
   "execution_count": 11,
   "id": "4c33b887-f65c-49ad-9473-74c9f94fdae7",
   "metadata": {},
   "outputs": [],
   "source": [
    "client.close()"
   ]
  },
  {
   "cell_type": "code",
   "execution_count": null,
   "id": "5fbbc4e1-7051-4ff9-8452-ed4edfe209b0",
   "metadata": {},
   "outputs": [],
   "source": []
  },
  {
   "cell_type": "code",
   "execution_count": null,
   "id": "86e08b2e-9862-40c7-905b-6e093609b5d6",
   "metadata": {},
   "outputs": [],
   "source": [
    "\n",
    "client.setup_session(sensor_config)\n",
    "\n",
    "# Preparation for reference application processor\n",
    "ref_app = RefApp(client=client, sensor_id=sensor, ref_app_config=ref_app_config)\n",
    "ref_app.start()"
   ]
  },
  {
   "cell_type": "code",
   "execution_count": null,
   "id": "c9197115-80c7-4ff0-8284-b7d9c9934e9a",
   "metadata": {},
   "outputs": [],
   "source": []
  },
  {
   "cell_type": "code",
   "execution_count": null,
   "id": "0040f28c-dd78-4297-b08c-8ac89516b521",
   "metadata": {},
   "outputs": [],
   "source": [
    "\n",
    "\n",
    "def main():\n",
    "    args = a121.ExampleArgumentParser().parse_args()\n",
    "    et.utils.config_logging(args)\n",
    "\n",
    "    # Setup the configurations\n",
    "    # Detailed at https://docs.acconeer.com/en/latest/exploration_tool/algo/a121/ref_apps/breathing.html\n",
    "\n",
    "    # Sensor selections\n",
    "    sensor = 1\n",
    "\n",
    "    # Ref App Configurations\n",
    "    breathing_processor_config = BreathingProcessorConfig(\n",
    "        lowest_breathing_rate=6,\n",
    "        highest_breathing_rate=60,\n",
    "        time_series_length_s=20,\n",
    "    )\n",
    "\n",
    "    # Presence Configurations\n",
    "    presence_config = PresenceProcessorConfig(\n",
    "        intra_detection_threshold=4,\n",
    "        intra_frame_time_const=0.15,\n",
    "        inter_frame_fast_cutoff=20,\n",
    "        inter_frame_slow_cutoff=0.2,\n",
    "        inter_frame_deviation_time_const=0.5,\n",
    "    )\n",
    "\n",
    "    # Breathing Configurations\n",
    "    ref_app_config = RefAppConfig(\n",
    "        use_presence_processor=True,\n",
    "        num_distances_to_analyze=3,\n",
    "        distance_determination_duration=5,\n",
    "        breathing_config=breathing_processor_config,\n",
    "        presence_config=presence_config,\n",
    "    )\n",
    "\n",
    "    # End setup configurations\n",
    "\n",
    "    # Preparation for client\n",
    "    sensor_config = get_sensor_config(ref_app_config=ref_app_config)\n",
    "    client = a121.Client.open(**a121.get_client_args(args))\n",
    "    client.setup_session(sensor_config)\n",
    "\n",
    "    # Preparation for reference application processor\n",
    "    ref_app = RefApp(client=client, sensor_id=sensor, ref_app_config=ref_app_config)\n",
    "    ref_app.start()\n",
    "\n",
    "    interrupt_handler = et.utils.ExampleInterruptHandler()\n",
    "    print(\"Press Ctrl-C to end session\")\n",
    "\n",
    "    while not interrupt_handler.got_signal:\n",
    "        processed_data = ref_app.get_next()\n",
    "        try:\n",
    "            print(\"Breathing result \" + str(processed_data.breathing_result))\n",
    "        except et.PGProccessDiedException:\n",
    "            break\n",
    "\n",
    "    ref_app.stop()\n",
    "    print(\"Disconnecting...\")\n",
    "    client.close()\n",
    "\n",
    "\n",
    "if __name__ == \"__main__\":\n",
    "    main()"
   ]
  },
  {
   "cell_type": "code",
   "execution_count": null,
   "id": "4c774841-9d29-41ed-acfd-2b80af377ba1",
   "metadata": {},
   "outputs": [],
   "source": []
  },
  {
   "cell_type": "code",
   "execution_count": null,
   "id": "3438c750-ca5d-46c6-9016-a3ac11ed81b0",
   "metadata": {},
   "outputs": [],
   "source": []
  },
  {
   "cell_type": "code",
   "execution_count": null,
   "id": "74994298-1837-465a-9fb4-b8ba48d5a2a2",
   "metadata": {},
   "outputs": [],
   "source": []
  }
 ],
 "metadata": {
  "kernelspec": {
   "display_name": "Python 3 (ipykernel)",
   "language": "python",
   "name": "python3"
  },
  "language_info": {
   "codemirror_mode": {
    "name": "ipython",
    "version": 3
   },
   "file_extension": ".py",
   "mimetype": "text/x-python",
   "name": "python",
   "nbconvert_exporter": "python",
   "pygments_lexer": "ipython3",
   "version": "3.9.12"
  }
 },
 "nbformat": 4,
 "nbformat_minor": 5
}
